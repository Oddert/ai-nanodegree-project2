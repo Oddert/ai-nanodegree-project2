{
 "cells": [
  {
   "cell_type": "markdown",
   "id": "124e5672",
   "metadata": {},
   "source": [
    "# Custom Chatbot Project"
   ]
  },
  {
   "cell_type": "markdown",
   "id": "2a4a94b3",
   "metadata": {},
   "source": [
    "This notebook wraps the openai client to demonstrate Retrieval Augmented Generation used to create a custom 'chatbot'.\n",
    "\n",
    "The dataset chosen is the Wikipedia overview page for the topic of Voice Therapy. This source was chosen as it is a topic that is very personally meaningful to me but is also a topic where a baseline level of common knowledge might be assumed, but no actual detail.\n",
    "\n",
    "For example I might expect a more advanced model to give the general idea of what voice therapy is, who might use it, and even to name some techniques, but I would not expect ti to be able to offer tailored advice on what someone's next actions might be if they are having trouble with their voice and wish to explore options.\n",
    "\n",
    "In a production environment you could imagine a similar design with access to the individual topic pages linked to by this summary page, which could serve to aid the process of someone undergoing voice training, or perhaps be used to query and understand options available, what would suit and what would not."
   ]
  },
  {
   "cell_type": "markdown",
   "id": "a63d4c5f",
   "metadata": {},
   "source": [
    "## Data Wrangling\n",
    "\n",
    "TODO: In the cells below, load your chosen dataset into a `pandas` dataframe with a column named `\"text\"`. This column should contain all of your text data, separated into at least 20 rows."
   ]
  },
  {
   "cell_type": "code",
   "execution_count": 30,
   "id": "3cfd14de-a0d9-405b-8638-8eaeac23ab4f",
   "metadata": {},
   "outputs": [
    {
     "name": "stdout",
     "output_type": "stream",
     "text": [
      "Collecting openai==0.28\n",
      "  Downloading openai-0.28.0-py3-none-any.whl.metadata (13 kB)\n",
      "Requirement already satisfied: tiktoken in d:\\dev\\ai-nanoedgree\\venv\\lib\\site-packages (0.7.0)\n",
      "Requirement already satisfied: requests>=2.20 in d:\\dev\\ai-nanoedgree\\venv\\lib\\site-packages (from openai==0.28) (2.31.0)\n",
      "Requirement already satisfied: tqdm in d:\\dev\\ai-nanoedgree\\venv\\lib\\site-packages (from openai==0.28) (4.66.2)\n",
      "Requirement already satisfied: aiohttp in d:\\dev\\ai-nanoedgree\\venv\\lib\\site-packages (from openai==0.28) (3.9.4)\n",
      "Requirement already satisfied: regex>=2022.1.18 in d:\\dev\\ai-nanoedgree\\venv\\lib\\site-packages (from tiktoken) (2023.12.25)\n",
      "Requirement already satisfied: charset-normalizer<4,>=2 in d:\\dev\\ai-nanoedgree\\venv\\lib\\site-packages (from requests>=2.20->openai==0.28) (3.3.2)\n",
      "Requirement already satisfied: idna<4,>=2.5 in d:\\dev\\ai-nanoedgree\\venv\\lib\\site-packages (from requests>=2.20->openai==0.28) (3.7)\n",
      "Requirement already satisfied: urllib3<3,>=1.21.1 in d:\\dev\\ai-nanoedgree\\venv\\lib\\site-packages (from requests>=2.20->openai==0.28) (2.2.1)\n",
      "Requirement already satisfied: certifi>=2017.4.17 in d:\\dev\\ai-nanoedgree\\venv\\lib\\site-packages (from requests>=2.20->openai==0.28) (2024.2.2)\n",
      "Requirement already satisfied: aiosignal>=1.1.2 in d:\\dev\\ai-nanoedgree\\venv\\lib\\site-packages (from aiohttp->openai==0.28) (1.3.1)\n",
      "Requirement already satisfied: attrs>=17.3.0 in d:\\dev\\ai-nanoedgree\\venv\\lib\\site-packages (from aiohttp->openai==0.28) (23.2.0)\n",
      "Requirement already satisfied: frozenlist>=1.1.1 in d:\\dev\\ai-nanoedgree\\venv\\lib\\site-packages (from aiohttp->openai==0.28) (1.4.1)\n",
      "Requirement already satisfied: multidict<7.0,>=4.5 in d:\\dev\\ai-nanoedgree\\venv\\lib\\site-packages (from aiohttp->openai==0.28) (6.0.5)\n",
      "Requirement already satisfied: yarl<2.0,>=1.0 in d:\\dev\\ai-nanoedgree\\venv\\lib\\site-packages (from aiohttp->openai==0.28) (1.9.4)\n",
      "Requirement already satisfied: async-timeout<5.0,>=4.0 in d:\\dev\\ai-nanoedgree\\venv\\lib\\site-packages (from aiohttp->openai==0.28) (4.0.3)\n",
      "Requirement already satisfied: colorama in d:\\dev\\ai-nanoedgree\\venv\\lib\\site-packages (from tqdm->openai==0.28) (0.4.6)\n",
      "Downloading openai-0.28.0-py3-none-any.whl (76 kB)\n",
      "   ---------------------------------------- 0.0/76.5 kB ? eta -:--:--\n",
      "   ---------------------------------------- 76.5/76.5 kB 2.1 MB/s eta 0:00:00\n",
      "Installing collected packages: openai\n",
      "  Attempting uninstall: openai\n",
      "    Found existing installation: openai 1.34.0\n",
      "    Uninstalling openai-1.34.0:\n",
      "      Successfully uninstalled openai-1.34.0\n",
      "Successfully installed openai-0.28.0\n",
      "Note: you may need to restart the kernel to use updated packages.\n"
     ]
    }
   ],
   "source": [
    "pip install openai==0.28 tiktoken"
   ]
  },
  {
   "cell_type": "code",
   "execution_count": 2,
   "id": "0a595980",
   "metadata": {},
   "outputs": [],
   "source": [
    "from typing import List\n",
    "\n",
    "import requests\n",
    "\n",
    "import openai\n",
    "import tiktoken\n",
    "\n",
    "import pandas as pd"
   ]
  },
  {
   "cell_type": "code",
   "execution_count": 3,
   "id": "f9e8e638-55a9-43ce-a7e6-835f6710a0ca",
   "metadata": {},
   "outputs": [],
   "source": [
    "api_key = 'YOUR API KEY'\n",
    "openai.api_key = api_key"
   ]
  },
  {
   "cell_type": "code",
   "execution_count": 3,
   "id": "acb3a9fd",
   "metadata": {},
   "outputs": [],
   "source": [
    "data_url = 'https://en.wikipedia.org/w/api.php'\n",
    "page_name = 'Voice_therapy'\n",
    "csv_name = 'dataset-voice-therapy.csv'\n",
    "completion_model = 'gpt-3.5-turbo-instruct'\n",
    "# embedding_model = 'text-embedding-ada-002'\n",
    "embedding_model = 'cl100k_base'\n",
    "query_params = {\n",
    "    'format': 'json',\n",
    "    'prop': 'extracts',\n",
    "    'action': 'query',\n",
    "    'exlimit': 1,\n",
    "    'titles': page_name,\n",
    "    'explaintext': 1,\n",
    "    'formatversion': 2,\n",
    "}"
   ]
  },
  {
   "cell_type": "code",
   "execution_count": 4,
   "id": "9a74c0cf-c090-49cc-bba9-67d568813f12",
   "metadata": {},
   "outputs": [],
   "source": [
    "response = requests.get(data_url, params=query_params)"
   ]
  },
  {
   "cell_type": "code",
   "execution_count": 5,
   "id": "2abbc3f1-a55d-437e-88ba-fd59025db592",
   "metadata": {},
   "outputs": [
    {
     "name": "stdout",
     "output_type": "stream",
     "text": [
      "{'batchcomplete': True, 'query': {'normalized': [{'fromencoded': False, 'from': 'Voice_therapy', 'to': 'Voice therapy'}], 'pages': [{'pageid': 24797922, 'ns': 0, 'title': 'Voice therapy', 'extract': 'Voice therapy consists of techniques and procedures that target vocal parameters, such as vocal fold closure, pitch, volume, and quality. This therapy is provided by speech-language pathologists and is primarily used to aid in the management of voice disorders, or for altering the overall quality of voice, as in the case of transgender voice therapy. Vocal pedagogy is a related field to alter voice for the purpose of singing. Voice therapy may also serve to teach preventive measures such as vocal hygiene and other safe speaking or singing practices.\\n\\n\\n== Orientations ==\\nThere are several orientations towards management in voice therapy. The approach taken to voice therapy varies between individuals, as no set treatment method applies for all individuals. The specific method of treatment should consider the type and severity of the disorder, as well as individual qualities such as personal and cultural characteristics. Some common orientations are described below.\\n\\n\\n=== Symptomatic ===\\nSymptomatic voice therapy aims to directly or indirectly modify the symptoms that are caused by a voice disorder. Techniques are implemented to facilitate the production and maintenance of a voice that is most appropriate for the individual.  Symptomatic voice therapy can modify respiration, phonation, resonance, voice, loudness, rate, and laryngeal muscle tension and may assist in gender reassignment voice change.\\n\\n\\n=== Physiologic ===\\nPhysiologic voice therapy may be adopted when the voice disorder is caused by a disturbance in the physiology of the vocal mechanism. Therapy directly modifies the abnormal physiologic activity affecting respiration, phonation, and resonance. Physiologic voice therapy aims to create a balance between the various subsystems.\\n\\n\\n=== Hygienic ===\\nHygienic voice therapy involves modifying or eliminating inappropriate vocal behaviours that lead to voice dysfunction. Once behaviours are modified, the voice may improve towards a normal state. The voice is improved without directly targeting physiological mechanisms. Hygienic Voice therapy uses different techniques which are used for both management and prevention for voice disorders. For management of disorders, hygienic voice therapy is usually used in conjunction with other voice therapy methods. Vocal hygiene programs can include many different components but usually includes speech and non-speech aspects. Speech aspects include addressing loudness and amount of use. Whereas non-speech components typically address components such as  allergies, or laryngopharyngeal reflux. A vocal hygiene program also may include a component about learning about how the voice works (e.g. anatomy and physiology).\\nSome vocal hygiene guidelines for better vocal health:\\n\\nAvoid phono-traumatic behaviours (i.e. throat clearing, yelling, cheering, excessive crying, talking over extensive background noise, and increase use voice amplification when appropriate).\\nDecrease or eliminate use of alcohol, caffeine, and drugs (i.e. tobacco, recreational drugs, non-steroidal anti-inflammatories and aspirin).\\nIncrease humidification of the upper respiratory tract (i.e. drink more water, increase environmental humidity when possible, and decrease time spent in dry or dusty environments).\\nDecrease quantity of speech (if you\\'re an excessive voice user or post laryngeal surgery).\\n\\n\\n=== Psychogenic ===\\nPsychogenic voice therapy examines the psychological and emotional factors that cause and perpetuate disordered voice, and focuses on modifying those factors to improve voice functioning.\\n\\n\\n=== Eclectic ===\\nThe various voice therapy orientations are not exclusive of each other. Any combination of orientations can be used in treatment. This is known as eclectic voice therapy.\\n\\n\\n== Procedures ==\\n\\n\\n=== Vocal surgeries ===\\nWhile hormone replacement therapy and gender reassignment surgery can cause a more feminine physical appearance, they do little to alter the pitch or sound of the voice.  A number of surgical procedures exist to alter the vocal structure. These can be used in conjunction with voice therapy:\\n\\nCricothyroid approximation (CTA) (is the most common)\\nLaryngoplasty\\nThyrohyoid approximation\\nLaryngeal reduction surgery (surgical shortening of the vocal cords)\\nLaser assisted voice adjustment (LAVA)\\n\\n\\n=== Voice prosthesis ===\\nVoice prosthesis is an artificial device, usually made of silicone, that is used to help laryngectomized patients to speak.\\n\\n\\n== Applications ==\\n\\n\\n=== Physiologic voice therapy ===\\n\\n\\n==== Accent Method ====\\nThere are many different physiologic voice therapy approaches that can be used in treatment. An example of a holistic approach used in voice therapy is the Smith Accent Method, introduced as a method to improve both speech and voice production. This technique can be used to treat stuttering, breathing, dysprosody, dysphonia, and to increase control of breathing, phrasing, and rhythm.\\nThe main targets of accent methods are:\\n\\nTo increase the pulmonary output\\nTo reduce tension in muscles\\nTo reduce glottis waste\\nTo stabilize the vibratory pattern of the vocal folds while speaking.\\nThe accent method is implemented two to three times a week, in 20 minute sessions. The procedure is two-part: diaphragmatic breathing and rhythmic vowel play. During diaphragmatic breathing, the patient is trained to elicit and monitor abdominal breathing and muscle relaxation. Rhythms are then introduced in two beats, with an accent on the second sound. The accented rhythm is then generalized to longer phonation at three speeds (largo, andante, and allegro), while maintaining proper breathing techniques. The rhythms are then generalized to real speech, through the use of repetition, reading passages, conversations, and monologues.\\n\\n\\n=== Symptomatic Voice Therapy ===\\n\\n\\n==== Chant-Talk ====\\nThere is a wide variety of treatments that fall under symptomatic voice therapy. An example of a symptomatic voice treatment method is the chant-talk approach. The chant-talk approach uses pre-existing characteristics found in chanting-styled music, such as rhythm and prosodic patterns. The therapy is used to reduce phonatory effort, which causes vocal fatigue. Chant therapy is used to minimize hyperfunctionality by affecting loudness and voice quality. The technique employs the continuous tone quality found in music chanting. More specifically, it elevates the pitch of the voice during phonation, prolongs the vowels, de-stresses syllables, and lessens word-initial glottal attacks.\\nThe goals of the chant-talk approach are to use voice quality and pitch techniques to decrease the effort used while talking. The technique is first demonstrated through the use of recordings, with the patient subsequently asked to imitate the specified voicing patterns. Once the chant has been mastered, the patient is asked to read aloud in chant and in normal register in 20 second alternation. Patients are asked to reduce chanting to a minimal, while maintaining vowel prolongations and softened glottal word onsets. Sessions are recorded in order to provide auditory feedback.\\n\\n\\n==== Resonant Voice Therapy ====\\nResonant voice is a technique often taught to actors and singers to improve voice production. Resonant voice therapy teaches clients to use resonant voice in order to reduce vocal fold trauma. Resonant voice is produced with minimally adducted (closed) vocal folds. This technique reduces the force of the vocal folds vibrating against each other, which reduces trauma and allows healing. A variety of different programs, including Lessac-Masden Resonant Voice Therapy (LMRVT), Humming, and Y-Buzz, have been studied and used to help teach resonant voice.\\nEach program uses slightly different strategies to teach resonant voice. However, they all have similar hierarchical structures and share the goal of producing a strong, clear voice with minimal effort. In the aforementioned programs, the client begins by trying to produce resonance during nasal consonants and vowels, then progresses to using this technique in words, sentences, and conversations. During voice therapy, clinicians often help patients conceptualize resonant voice by discussing where the patient \"feels\" their voice. Patients with dysphonia often describe their voices as vibrating in the throat. Resonant voice is described as vibrating higher and further forward, and being felt at the alveolar ridge and in the maxillary bones.\\nRange Expansion and Stabilization Techniques (REST) and Exercises\\nRange Expansion and Stabilization Techniques (REST) and exercises target symptoms such as reduced pitch range, reduced loudness, and voice instability which are often related to a variety of different voice disorders. There are three main exercises that work to target these symptoms. The first is called a \"stretching\" exercise and targets pitch range. The client is asked to find their comfortable pitch, and then slowly go up 1/3 of an octave using a gliding technique, and then gently go back to their comfortable pitch on one inhale. This procedure is followed by an exhale and rest for 1–2 seconds, then should be repeated 2-3 times. As the client improves, octave levels can be increased. The second is called a \"resistance\" exercise and focuses on loudness. The client is asked to use their comfortable pitch and go from a soft to loud voice for 3–4 seconds, followed by an exhale. It is important to train the client to do this without straining their voice. The third is called an \"endurance\" exercise, the client is instructed to hold a note as long as they can by controlling their exhale (this should be done with 3-4 comfortable pitches).\\n\\n\\n=== Vocal pedagogy ===\\n\\n\\n==== Vocal pedagogy for singing, particularly opera ====\\nDialect training for actors who need to speak with a particular dialect or accent\\nWhile many transgender women wish to sing like cisgender women, it will require a lot of training for one to achieve a feminine-sounding voice. This is why most who haven\\'t gone through male puberty begin hormone replacement therapy have a higher chance of retaining this quality. See castrato for more information.\\n\\nDebate\\nPublic speaking\\n\\n\\n=== Voice therapy in transgender individuals ===\\n\\nVoice therapy is sometimes undertaken by trans women and trans men to make their voices better match their gender. Voice feminization is the desired outcome of surgical techniques, speech therapy, self-help programs and a general litany of other techniques to acquire a female-sounding voice from a perceived male-sounding voice. Voice masculinization is the use of the same procedures and techniques to acquire a male-sounding voice.\\n\\n\\n=== Voice management after laryngectomy ===\\nSome laryngectomized patients may succeed in achieving communication through the use of esophageal speech, in which air is swallowed, then gradually released while producing speech.\\nOthers may make use of an electrolarynx (external vibrating device), which produces vibrations in the patient\\'s oral cavity that they can no longer produce themselves without air passing through their vocal folds.\\nThe current medical standard after a laryngectomy is a tracheoesophageal puncture, which includes the insertion of a voice prosthesis.\\n\\n\\n==== Voice therapy with prostheses ====\\nA voice prosthesis is an artificial device, usually made of silicone, that is used to help laryngectomized patients speak. A tube is inserted into the neck, below the vocal folds, allowing air to go through the tube instead of through the mouth and nose. Following a total laryngectomy, air will no longer pass through the vocal folds, significantly altering the person\\'s ability to communicate orally. In some instances, the person may be able to block the tube with their fingers and breathe as they did before the surgery or attach a valve to their tube, which serves to allow air to enter while preventing food from passing into the windpipe. In others, this is not a viable option due to resistance, infection, and insufficient air. Voice therapy may then be turned to as a means for a person to regain the ability to communicate orally. Voice prostheses and ventilators may affect the volume of the speaker and the overall quality of the speaker\\'s voice. With the help of voice therapy as well as possible adjustments to ventilator settings, the goal is to become accustomed to using the device functionally and to learn the techniques and skills needed to participate in daily communication.\\n\\n\\n==== Other types of speech and language therapy after laryngectomy: Communication strategies ====\\nIf the person is using a ventilator with their tube, there are long pauses between cycles of the ventilator. During these moments of silence, someone else may begin to speak, thus taking away the turn of the person with a ventilator. The person who has undergone a laryngectomy can use tools and techniques, such as those provided by a Speech-Language Pathologist (SLP) to self-advocate during conversations, in order to ensure that they are given the space that they need to participate in conversation. An SLP can also provide information to the person and to the people who interact with them frequently on communication strategies that would benefit them.\\n\\n\\n== Pediatric Voice Therapy ==\\n\\nIn children, the voice disorders and dysphonia are quite common, although the reported prevalence varies significantly depending on the type of data collection and the location from which it was drawn. Some estimates suggest a rate between 6 and 38% of school-aged children, others indicate between 2 and 23%. Dysphonia is more common in male children than females during school-age. Conversely, as of 13 years and through to adulthood the disorder is more commonly seen in females. Other voice disorders such as vocal nodules, are also common in children, particularly before the onset of puberty with an incidence of 17-30%. The most common vocal pathologies occurring in children are nodules (55-68% of cases) and damage caused by congenital lesions (27-41% of cases). Other common pathologies in children include vocal fold cysts and polyps. The presence of dysphonia in children can impact psychological well-being and social functioning both in academic and family life and can significantly influence a  child\\'s ability to perform daily functions. Moreover, pediatric voice disorders may progress into adulthood and consequently negatively affect personal and professional ambitions.  As a result of these consequences, the United States have implemented a federal mandate through the Individuals with Disabilities Act which states that children with voice disorders that impact their academic performance are entitled to in-school services. Despite this, the criteria for school based services is up to interpretation, and children with voice disorders have inconsistent access to treatment.\\nEpidemiology\\nThere are various different types of dysphonia with distinct epidemiologies.\\n\\nAcute dysphonia usually triggered by an infectious onset.\\nJuvenile Recurrent Respiratory Papillomatosis (RRP), subglottic stenosis\\nEndocrine pathology induced VT\\nLaryngeal conditions that lead to chronic childhood voice disorders.\\nvocal fold nodules/ cysts, velopharyngeal insufficiency (VPI), anterior glottic webs, vocal fold paralysis \\nFunctional voice disorders (i.e. no neurologic/ anatomical etiology) \\nmuscle tension dysphonia, puberphonia/mutational falsetto \\n\\n\\n=== Pediatric Voice Team ===\\nPediatric voice therapy involves the collaborative work of often multidisciplinary healthcare practitioners forming the voice-care teams. In pediatric cases, the Speech Language Pathologist (S-LP) is usually the primary treatment provider. His or her work may be facilitated by other team members depending on the issues involved. These include a pediatric otolaryngologist, pulmonologist/allergist and nurses. Additionally, other members of the voice-care team can include general practitioners, surgeons, social workers, occupational therapists, dieticians, gastroenterologists and pharmacists. Voice services can be provided in a number of settings, including hospitals, clinics, schools and personal homes.\\n\\n\\n=== Assessment ===\\nInterview: The first step of assessment in childhood dysphonia is the interview. In the interview, the clinician must learn who first noticed the dysphonia, the age of onset (early years/months suggests congenital pathology, school age (3–4 years) suggests acquired pathology), as well as the evolution of the disorder. Variation in the presentation of the disorder can be very helpful in guiding the voice therapy. For example, if the voice improved on weekends, this could suggest an underlying problem with vocal behaviour. Similarly, if the voice pathology remained stable or varied significantly regardless of context, it is likely unrelated to vocal effort and suggestive of a congenital malformation of the vocal structure. The interview process also includes the collection of a thorough history which informs the clinician of potential risk factors affecting the child (i.e. prematurity, NICU stay, family history, ENT surgeries, hearing impairment etc.). In these instances the clinician should screen for swallowing, pneumologic and digestive impairments which could be contributing to the dysphonia. Other important factors to take note of during the interview include the child\\'s personality (i.e. introverted/extroverted, carefree/anxious), how they communicate as well as what their home and school environment is like. All of these factors may contribute to the voice disorder itself, as well as to its impact on the child\\'s social functioning.\\nVoice Function Assessment: A clinical assessment of voice function includes a laryngeal exam, perceptual examination of vocal characteristics, the collection of voice samples (reading, singing, loud voice, prolonged vowels etc.) and the examination of vocal behaviours (posture, balance, face and neck muscle activity, respiratory gestures. It also includes objective instrumental measures of maximum phonation time (MPT), jitter, s/z ratios and other relevant acoustic features (intensity, tone, volume pitch). Qualitative instruments which are used to examine vocal quality include the dysphonia Grade, Roughness, Breathiness, Asthenia and Strain (GRBAS) scale as well as the Consensus Auditory Perceptual Evaluation-Voice (CAPE-V) scale.\\nQuality of Life: Additionally, qualitative measures are sometimes used to evaluate the extent to which vocal disorders impact children\\'s social interactions, activities and education. These include the Pediatric Voice Handicap Index (pVHI), the Pediatric Voice Outcome Survey (PVOS) and the Pediatric Voice-Related Quality-of-Life (PVRQOL) instruments.\\nPhysical Examination: the physical examination is performed using rigid or flexible endoscopy in order to examine the physiology of the vocal structures.\\n\\n\\n=== Treatment ===\\nDiagnosis of a voice disorder must be followed by a physician referral in order for a child to have access to therapy services. Treatment of voice disorders in children can involve a combination of behavioral, pharmacological and surgical methods. Behavioural methods are most commonly used to address dysphonia in children, particularly in the case of vocal nodules.\\n\\nBehavioural/ Indirect Treatment Methods: The behavioural approach to treatment uses vocal hygiene as an indirect form of therapy, often supplemented by direct voice production training. This method relies heavily on education and guides children towards the use of vocally safe behaviours, such as hydration. It also explains the need to reduce traumatic behaviours including loud phonation, coughing, imitation of animal and machine noises, hard glottal stops and yelling across long distances. In therapy, children are taught to monitor their vocal behaviour for these signs and are sometimes trained to use an alternative gentle and quiet voice.\\nDirect Treatment Methods: Direct treatment methods are used to facilitate the use of normal voice behaviours in children with dysphonia.\\nVocal Function Exercises: designed to improve balance between respiration, phonation and resonance. Exercises include the establishment of correct posture and breathing, increasing the duration of sustained vowels to improve breath support, gliding from low to high pitch to strengthen the cricothyroid muscle and stretch vocal folds, gliding from high to low notes to target the thyroarytenoid musculature, and producing varied notes ( C-D-E-F-G) in order to strengthen laryngeal adduction.\\nResonance Therapy: modified form of Resonance Voice Therapy (RVT) designed for children to help facilitate forward focus through exercises required nasal- oral productions.\\nSemiocclusion of the Vocal Tract: methods that implement semiocclusion of the vocal tract are designed to increase efficient voicing thereby lessening the forceful vibrations of the vocal folds and minimizing mechanical trauma. This allows for the training of safe vocal behaviours, and provides opportunity for existing vocal trauma/lesions to heal sufficiently. Flow phonation therapy, straw phonation and lip buzzes are examples of these methods.\\nSurgical Methods: surgical treatment for certain vocal pathologies is considered when other methods of management have failed and is rarely performed before puberty. If the vocal use is considered a causal factor, these behaviours must be managed before surgery is performed.\\n\\n\\n== References =='}]}}\n"
     ]
    },
    {
     "data": {
      "text/html": [
       "<div>\n",
       "<style scoped>\n",
       "    .dataframe tbody tr th:only-of-type {\n",
       "        vertical-align: middle;\n",
       "    }\n",
       "\n",
       "    .dataframe tbody tr th {\n",
       "        vertical-align: top;\n",
       "    }\n",
       "\n",
       "    .dataframe thead th {\n",
       "        text-align: right;\n",
       "    }\n",
       "</style>\n",
       "<table border=\"1\" class=\"dataframe\">\n",
       "  <thead>\n",
       "    <tr style=\"text-align: right;\">\n",
       "      <th></th>\n",
       "      <th>text</th>\n",
       "    </tr>\n",
       "  </thead>\n",
       "  <tbody>\n",
       "    <tr>\n",
       "      <th>0</th>\n",
       "      <td>Voice therapy consists of techniques and proce...</td>\n",
       "    </tr>\n",
       "    <tr>\n",
       "      <th>1</th>\n",
       "      <td>There are several orientations towards managem...</td>\n",
       "    </tr>\n",
       "    <tr>\n",
       "      <th>2</th>\n",
       "      <td>Symptomatic voice therapy aims to directly or ...</td>\n",
       "    </tr>\n",
       "    <tr>\n",
       "      <th>3</th>\n",
       "      <td>Physiologic voice therapy may be adopted when ...</td>\n",
       "    </tr>\n",
       "    <tr>\n",
       "      <th>4</th>\n",
       "      <td>Hygienic voice therapy involves modifying or e...</td>\n",
       "    </tr>\n",
       "    <tr>\n",
       "      <th>...</th>\n",
       "      <td>...</td>\n",
       "    </tr>\n",
       "    <tr>\n",
       "      <th>59</th>\n",
       "      <td>Direct Treatment Methods: Direct treatment met...</td>\n",
       "    </tr>\n",
       "    <tr>\n",
       "      <th>60</th>\n",
       "      <td>Vocal Function Exercises: designed to improve ...</td>\n",
       "    </tr>\n",
       "    <tr>\n",
       "      <th>61</th>\n",
       "      <td>Resonance Therapy: modified form of Resonance ...</td>\n",
       "    </tr>\n",
       "    <tr>\n",
       "      <th>62</th>\n",
       "      <td>Semiocclusion of the Vocal Tract: methods that...</td>\n",
       "    </tr>\n",
       "    <tr>\n",
       "      <th>63</th>\n",
       "      <td>Surgical Methods: surgical treatment for certa...</td>\n",
       "    </tr>\n",
       "  </tbody>\n",
       "</table>\n",
       "<p>64 rows × 1 columns</p>\n",
       "</div>"
      ],
      "text/plain": [
       "                                                 text\n",
       "0   Voice therapy consists of techniques and proce...\n",
       "1   There are several orientations towards managem...\n",
       "2   Symptomatic voice therapy aims to directly or ...\n",
       "3   Physiologic voice therapy may be adopted when ...\n",
       "4   Hygienic voice therapy involves modifying or e...\n",
       "..                                                ...\n",
       "59  Direct Treatment Methods: Direct treatment met...\n",
       "60  Vocal Function Exercises: designed to improve ...\n",
       "61  Resonance Therapy: modified form of Resonance ...\n",
       "62  Semiocclusion of the Vocal Tract: methods that...\n",
       "63  Surgical Methods: surgical treatment for certa...\n",
       "\n",
       "[64 rows x 1 columns]"
      ]
     },
     "execution_count": 5,
     "metadata": {},
     "output_type": "execute_result"
    }
   ],
   "source": [
    "print(response.json())\n",
    "df = pd.DataFrame()\n",
    "df['text'] = [*filter(lambda x: x != '' and not x.startswith('=='), response.json()['query']['pages'][0]['extract'].split('\\n'))]\n",
    "df.to_csv(csv_name)\n",
    "df"
   ]
  },
  {
   "cell_type": "markdown",
   "id": "ae769871",
   "metadata": {},
   "source": [
    "## Custom Query Completion\n",
    "\n",
    "TODO: In the cells below, compose a custom query using your chosen dataset and retrieve results from an OpenAI `Completion` model. You may copy and paste any useful code from the course materials."
   ]
  },
  {
   "cell_type": "code",
   "execution_count": 6,
   "id": "582f0656",
   "metadata": {},
   "outputs": [],
   "source": [
    "# Copied from Retrieval Augmented Generation codealong\n",
    "prompt_template = '''\n",
    "Answer the question based on the context below, and if the question\n",
    "can't be answered based on the context, say \"I don't know\"\n",
    "\n",
    "Context: \n",
    "\n",
    "{}\n",
    "\n",
    "---\n",
    "\n",
    "Question: {}\n",
    "Answer:'''"
   ]
  },
  {
   "cell_type": "code",
   "execution_count": 7,
   "id": "8b6e1f75",
   "metadata": {},
   "outputs": [],
   "source": [
    "tokeniser = tiktoken.get_encoding(embedding_model)\n",
    "\n",
    "def prepare_context(prompt: str = '', full_context: List[str] = []):\n",
    "    '''\n",
    "    Parses a given context to fit within the context window of the model.\n",
    "\n",
    "    params\n",
    "    ---\n",
    "    prompt {string}: The question passed by the user.\n",
    "    full_context {string[]}: The context dataset as a list of strings.\n",
    "\n",
    "    returns\n",
    "    ---\n",
    "    {string[]} The parsed context sized to fit within the context window.\n",
    "    '''\n",
    "    context = []\n",
    "    max_token_count = 1000\n",
    "    current_token_count = len(tokeniser.encode(prompt_template)) + len(tokeniser.encode(prompt))\n",
    "\n",
    "    for text in full_context:\n",
    "        text_token_count = len(tokeniser.encode(text))\n",
    "        current_token_count += text_token_count\n",
    "        \n",
    "        if current_token_count <= max_token_count:\n",
    "            context.append(text)\n",
    "        else:\n",
    "            break\n",
    "\n",
    "    return context"
   ]
  },
  {
   "cell_type": "code",
   "execution_count": 25,
   "id": "13f2dcd7",
   "metadata": {},
   "outputs": [],
   "source": [
    "def run_query(prompt, context = []):\n",
    "    '''\n",
    "    Wrapper function for the Open AI client.\n",
    "\n",
    "    params\n",
    "    ---\n",
    "    prompt {string}: The question for the model.\n",
    "    context {string[]}: Context material for the context section of the prompt.\n",
    "\n",
    "    returns\n",
    "    ---\n",
    "    {string} The response or an error.\n",
    "    '''\n",
    "    context_parsed  = prepare_context(prompt, context)\n",
    "    formatted_prompt = prompt_template.format('\\n\\n\\n###\\n\\n\\n'.join(context_parsed), prompt)\n",
    "    print(formatted_prompt)\n",
    "    try:\n",
    "        result = openai.Completion.create(\n",
    "            model=completion_model,\n",
    "            prompt=formatted_prompt,\n",
    "            max_tokens=32,\n",
    "        )\n",
    "        return result['choices'][0]\n",
    "    except Exception as ex:\n",
    "        return str(ex)"
   ]
  },
  {
   "cell_type": "code",
   "execution_count": 26,
   "id": "c403f543",
   "metadata": {},
   "outputs": [
    {
     "data": {
      "text/plain": [
       "['Voice therapy consists of techniques and procedures that target vocal parameters, such as vocal fold closure, pitch, volume, and quality. This therapy is provided by speech-language pathologists and is primarily used to aid in the management of voice disorders, or for altering the overall quality of voice, as in the case of transgender voice therapy. Vocal pedagogy is a related field to alter voice for the purpose of singing. Voice therapy may also serve to teach preventive measures such as vocal hygiene and other safe speaking or singing practices.',\n",
       " 'There are several orientations towards management in voice therapy. The approach taken to voice therapy varies between individuals, as no set treatment method applies for all individuals. The specific method of treatment should consider the type and severity of the disorder, as well as individual qualities such as personal and cultural characteristics. Some common orientations are described below.',\n",
       " 'Symptomatic voice therapy aims to directly or indirectly modify the symptoms that are caused by a voice disorder. Techniques are implemented to facilitate the production and maintenance of a voice that is most appropriate for the individual.  Symptomatic voice therapy can modify respiration, phonation, resonance, voice, loudness, rate, and laryngeal muscle tension and may assist in gender reassignment voice change.',\n",
       " 'Physiologic voice therapy may be adopted when the voice disorder is caused by a disturbance in the physiology of the vocal mechanism. Therapy directly modifies the abnormal physiologic activity affecting respiration, phonation, and resonance. Physiologic voice therapy aims to create a balance between the various subsystems.',\n",
       " 'Hygienic voice therapy involves modifying or eliminating inappropriate vocal behaviours that lead to voice dysfunction. Once behaviours are modified, the voice may improve towards a normal state. The voice is improved without directly targeting physiological mechanisms. Hygienic Voice therapy uses different techniques which are used for both management and prevention for voice disorders. For management of disorders, hygienic voice therapy is usually used in conjunction with other voice therapy methods. Vocal hygiene programs can include many different components but usually includes speech and non-speech aspects. Speech aspects include addressing loudness and amount of use. Whereas non-speech components typically address components such as  allergies, or laryngopharyngeal reflux. A vocal hygiene program also may include a component about learning about how the voice works (e.g. anatomy and physiology).',\n",
       " 'Some vocal hygiene guidelines for better vocal health:',\n",
       " 'Avoid phono-traumatic behaviours (i.e. throat clearing, yelling, cheering, excessive crying, talking over extensive background noise, and increase use voice amplification when appropriate).',\n",
       " 'Decrease or eliminate use of alcohol, caffeine, and drugs (i.e. tobacco, recreational drugs, non-steroidal anti-inflammatories and aspirin).',\n",
       " 'Increase humidification of the upper respiratory tract (i.e. drink more water, increase environmental humidity when possible, and decrease time spent in dry or dusty environments).',\n",
       " \"Decrease quantity of speech (if you're an excessive voice user or post laryngeal surgery).\",\n",
       " 'Psychogenic voice therapy examines the psychological and emotional factors that cause and perpetuate disordered voice, and focuses on modifying those factors to improve voice functioning.',\n",
       " 'The various voice therapy orientations are not exclusive of each other. Any combination of orientations can be used in treatment. This is known as eclectic voice therapy.',\n",
       " 'While hormone replacement therapy and gender reassignment surgery can cause a more feminine physical appearance, they do little to alter the pitch or sound of the voice.  A number of surgical procedures exist to alter the vocal structure. These can be used in conjunction with voice therapy:',\n",
       " 'Cricothyroid approximation (CTA) (is the most common)',\n",
       " 'Laryngoplasty',\n",
       " 'Thyrohyoid approximation',\n",
       " 'Laryngeal reduction surgery (surgical shortening of the vocal cords)',\n",
       " 'Laser assisted voice adjustment (LAVA)',\n",
       " 'Voice prosthesis is an artificial device, usually made of silicone, that is used to help laryngectomized patients to speak.',\n",
       " 'There are many different physiologic voice therapy approaches that can be used in treatment. An example of a holistic approach used in voice therapy is the Smith Accent Method, introduced as a method to improve both speech and voice production. This technique can be used to treat stuttering, breathing, dysprosody, dysphonia, and to increase control of breathing, phrasing, and rhythm.',\n",
       " 'The main targets of accent methods are:',\n",
       " 'To increase the pulmonary output',\n",
       " 'To reduce tension in muscles',\n",
       " 'To reduce glottis waste',\n",
       " 'To stabilize the vibratory pattern of the vocal folds while speaking.']"
      ]
     },
     "execution_count": 26,
     "metadata": {},
     "output_type": "execute_result"
    }
   ],
   "source": [
    "prepare_context('some example question', df['text'].values)"
   ]
  },
  {
   "cell_type": "code",
   "execution_count": null,
   "id": "74280b92",
   "metadata": {},
   "outputs": [],
   "source": []
  },
  {
   "cell_type": "markdown",
   "id": "1783f146",
   "metadata": {},
   "source": [
    "## Custom Performance Demonstration\n",
    "\n",
    "TODO: In the cells below, demonstrate the performance of your custom query using at least 2 questions. For each question, show the answer from a basic `Completion` model query as well as the answer from your custom query."
   ]
  },
  {
   "cell_type": "markdown",
   "id": "4f11fdc0",
   "metadata": {},
   "source": [
    "### Question 1"
   ]
  },
  {
   "cell_type": "code",
   "execution_count": 19,
   "id": "4901c850",
   "metadata": {},
   "outputs": [],
   "source": [
    "question_1 = 'What is Symptomatic Voice Therapy?'"
   ]
  },
  {
   "cell_type": "code",
   "execution_count": 20,
   "id": "bd7a093b",
   "metadata": {},
   "outputs": [
    {
     "name": "stdout",
     "output_type": "stream",
     "text": [
      "\n",
      "Answer the question based on the context below, and if the question\n",
      "can't be answered based on the context, say \"I don't know\"\n",
      "\n",
      "Context: \n",
      "\n",
      "\n",
      "\n",
      "---\n",
      "\n",
      "Question: What is Symptomatic Voice Therapy?\n",
      "Answer:\n"
     ]
    }
   ],
   "source": [
    "answer_1_base = run_query(question_1, [])"
   ]
  },
  {
   "cell_type": "code",
   "execution_count": 28,
   "id": "6157160d-3c28-4ab6-9db1-fabb97739479",
   "metadata": {},
   "outputs": [
    {
     "data": {
      "text/plain": [
       "<OpenAIObject at 0x270d67f7720> JSON: {\n",
       "  \"text\": \" I don't know\",\n",
       "  \"index\": 0,\n",
       "  \"logprobs\": null,\n",
       "  \"finish_reason\": \"stop\"\n",
       "}"
      ]
     },
     "execution_count": 28,
     "metadata": {},
     "output_type": "execute_result"
    }
   ],
   "source": [
    "answer_1_base"
   ]
  },
  {
   "cell_type": "code",
   "execution_count": 22,
   "id": "020fd143-0a14-4524-9cef-0377d49a51d5",
   "metadata": {},
   "outputs": [
    {
     "name": "stdout",
     "output_type": "stream",
     "text": [
      "\n",
      "Answer the question based on the context below, and if the question\n",
      "can't be answered based on the context, say \"I don't know\"\n",
      "\n",
      "Context: \n",
      "\n",
      "Voice therapy consists of techniques and procedures that target vocal parameters, such as vocal fold closure, pitch, volume, and quality. This therapy is provided by speech-language pathologists and is primarily used to aid in the management of voice disorders, or for altering the overall quality of voice, as in the case of transgender voice therapy. Vocal pedagogy is a related field to alter voice for the purpose of singing. Voice therapy may also serve to teach preventive measures such as vocal hygiene and other safe speaking or singing practices.\n",
      "\n",
      "\n",
      "###\n",
      "\n",
      "\n",
      "There are several orientations towards management in voice therapy. The approach taken to voice therapy varies between individuals, as no set treatment method applies for all individuals. The specific method of treatment should consider the type and severity of the disorder, as well as individual qualities such as personal and cultural characteristics. Some common orientations are described below.\n",
      "\n",
      "\n",
      "###\n",
      "\n",
      "\n",
      "Symptomatic voice therapy aims to directly or indirectly modify the symptoms that are caused by a voice disorder. Techniques are implemented to facilitate the production and maintenance of a voice that is most appropriate for the individual.  Symptomatic voice therapy can modify respiration, phonation, resonance, voice, loudness, rate, and laryngeal muscle tension and may assist in gender reassignment voice change.\n",
      "\n",
      "\n",
      "###\n",
      "\n",
      "\n",
      "Physiologic voice therapy may be adopted when the voice disorder is caused by a disturbance in the physiology of the vocal mechanism. Therapy directly modifies the abnormal physiologic activity affecting respiration, phonation, and resonance. Physiologic voice therapy aims to create a balance between the various subsystems.\n",
      "\n",
      "\n",
      "###\n",
      "\n",
      "\n",
      "Hygienic voice therapy involves modifying or eliminating inappropriate vocal behaviours that lead to voice dysfunction. Once behaviours are modified, the voice may improve towards a normal state. The voice is improved without directly targeting physiological mechanisms. Hygienic Voice therapy uses different techniques which are used for both management and prevention for voice disorders. For management of disorders, hygienic voice therapy is usually used in conjunction with other voice therapy methods. Vocal hygiene programs can include many different components but usually includes speech and non-speech aspects. Speech aspects include addressing loudness and amount of use. Whereas non-speech components typically address components such as  allergies, or laryngopharyngeal reflux. A vocal hygiene program also may include a component about learning about how the voice works (e.g. anatomy and physiology).\n",
      "\n",
      "\n",
      "###\n",
      "\n",
      "\n",
      "Some vocal hygiene guidelines for better vocal health:\n",
      "\n",
      "\n",
      "###\n",
      "\n",
      "\n",
      "Avoid phono-traumatic behaviours (i.e. throat clearing, yelling, cheering, excessive crying, talking over extensive background noise, and increase use voice amplification when appropriate).\n",
      "\n",
      "\n",
      "###\n",
      "\n",
      "\n",
      "Decrease or eliminate use of alcohol, caffeine, and drugs (i.e. tobacco, recreational drugs, non-steroidal anti-inflammatories and aspirin).\n",
      "\n",
      "\n",
      "###\n",
      "\n",
      "\n",
      "Increase humidification of the upper respiratory tract (i.e. drink more water, increase environmental humidity when possible, and decrease time spent in dry or dusty environments).\n",
      "\n",
      "\n",
      "###\n",
      "\n",
      "\n",
      "Decrease quantity of speech (if you're an excessive voice user or post laryngeal surgery).\n",
      "\n",
      "\n",
      "###\n",
      "\n",
      "\n",
      "Psychogenic voice therapy examines the psychological and emotional factors that cause and perpetuate disordered voice, and focuses on modifying those factors to improve voice functioning.\n",
      "\n",
      "\n",
      "###\n",
      "\n",
      "\n",
      "The various voice therapy orientations are not exclusive of each other. Any combination of orientations can be used in treatment. This is known as eclectic voice therapy.\n",
      "\n",
      "\n",
      "###\n",
      "\n",
      "\n",
      "While hormone replacement therapy and gender reassignment surgery can cause a more feminine physical appearance, they do little to alter the pitch or sound of the voice.  A number of surgical procedures exist to alter the vocal structure. These can be used in conjunction with voice therapy:\n",
      "\n",
      "\n",
      "###\n",
      "\n",
      "\n",
      "Cricothyroid approximation (CTA) (is the most common)\n",
      "\n",
      "\n",
      "###\n",
      "\n",
      "\n",
      "Laryngoplasty\n",
      "\n",
      "\n",
      "###\n",
      "\n",
      "\n",
      "Thyrohyoid approximation\n",
      "\n",
      "\n",
      "###\n",
      "\n",
      "\n",
      "Laryngeal reduction surgery (surgical shortening of the vocal cords)\n",
      "\n",
      "\n",
      "###\n",
      "\n",
      "\n",
      "Laser assisted voice adjustment (LAVA)\n",
      "\n",
      "\n",
      "###\n",
      "\n",
      "\n",
      "Voice prosthesis is an artificial device, usually made of silicone, that is used to help laryngectomized patients to speak.\n",
      "\n",
      "\n",
      "###\n",
      "\n",
      "\n",
      "There are many different physiologic voice therapy approaches that can be used in treatment. An example of a holistic approach used in voice therapy is the Smith Accent Method, introduced as a method to improve both speech and voice production. This technique can be used to treat stuttering, breathing, dysprosody, dysphonia, and to increase control of breathing, phrasing, and rhythm.\n",
      "\n",
      "\n",
      "###\n",
      "\n",
      "\n",
      "The main targets of accent methods are:\n",
      "\n",
      "\n",
      "###\n",
      "\n",
      "\n",
      "To increase the pulmonary output\n",
      "\n",
      "\n",
      "###\n",
      "\n",
      "\n",
      "To reduce tension in muscles\n",
      "\n",
      "\n",
      "###\n",
      "\n",
      "\n",
      "To reduce glottis waste\n",
      "\n",
      "\n",
      "###\n",
      "\n",
      "\n",
      "To stabilize the vibratory pattern of the vocal folds while speaking.\n",
      "\n",
      "---\n",
      "\n",
      "Question: What is Symptomatic Voice Therapy?\n",
      "Answer:\n"
     ]
    }
   ],
   "source": [
    "answer_1_contextful = run_query(question_1, df['text'].values)"
   ]
  },
  {
   "cell_type": "code",
   "execution_count": 27,
   "id": "9367b0c7-8e3c-49b0-a894-4fe069837ed4",
   "metadata": {},
   "outputs": [
    {
     "data": {
      "text/plain": [
       "<OpenAIObject at 0x270d6137860> JSON: {\n",
       "  \"text\": \" Symptomatic voice therapy is a type of voice therapy that aims to directly or\",\n",
       "  \"index\": 0,\n",
       "  \"logprobs\": null,\n",
       "  \"finish_reason\": \"length\"\n",
       "}"
      ]
     },
     "execution_count": 27,
     "metadata": {},
     "output_type": "execute_result"
    }
   ],
   "source": [
    "answer_1_contextful"
   ]
  },
  {
   "cell_type": "markdown",
   "id": "6e86e37c",
   "metadata": {},
   "source": [
    "### Question 2"
   ]
  },
  {
   "cell_type": "code",
   "execution_count": 29,
   "id": "6f646989",
   "metadata": {},
   "outputs": [],
   "source": [
    "question_2 = 'What are the main targets of accent mehtods used in Physiologic voice therapy?'"
   ]
  },
  {
   "cell_type": "code",
   "execution_count": 30,
   "id": "11c07a54",
   "metadata": {},
   "outputs": [
    {
     "name": "stdout",
     "output_type": "stream",
     "text": [
      "\n",
      "Answer the question based on the context below, and if the question\n",
      "can't be answered based on the context, say \"I don't know\"\n",
      "\n",
      "Context: \n",
      "\n",
      "\n",
      "\n",
      "---\n",
      "\n",
      "Question: What are the main targets of accent mehtods used in Physiologic voice therapy?\n",
      "Answer:\n"
     ]
    }
   ],
   "source": [
    "answer_2_base = run_query(question_2, [])"
   ]
  },
  {
   "cell_type": "code",
   "execution_count": 31,
   "id": "2ab8b421-16eb-41b5-a40c-32873e779b70",
   "metadata": {},
   "outputs": [
    {
     "data": {
      "text/plain": [
       "<OpenAIObject at 0x270d61390e0> JSON: {\n",
       "  \"text\": \" \\n\\nI don't know.\",\n",
       "  \"index\": 0,\n",
       "  \"logprobs\": null,\n",
       "  \"finish_reason\": \"stop\"\n",
       "}"
      ]
     },
     "execution_count": 31,
     "metadata": {},
     "output_type": "execute_result"
    }
   ],
   "source": [
    "answer_2_base"
   ]
  },
  {
   "cell_type": "code",
   "execution_count": 32,
   "id": "2b014397-7a29-4d50-b43f-dba2662816c9",
   "metadata": {},
   "outputs": [
    {
     "name": "stdout",
     "output_type": "stream",
     "text": [
      "\n",
      "Answer the question based on the context below, and if the question\n",
      "can't be answered based on the context, say \"I don't know\"\n",
      "\n",
      "Context: \n",
      "\n",
      "Voice therapy consists of techniques and procedures that target vocal parameters, such as vocal fold closure, pitch, volume, and quality. This therapy is provided by speech-language pathologists and is primarily used to aid in the management of voice disorders, or for altering the overall quality of voice, as in the case of transgender voice therapy. Vocal pedagogy is a related field to alter voice for the purpose of singing. Voice therapy may also serve to teach preventive measures such as vocal hygiene and other safe speaking or singing practices.\n",
      "\n",
      "\n",
      "###\n",
      "\n",
      "\n",
      "There are several orientations towards management in voice therapy. The approach taken to voice therapy varies between individuals, as no set treatment method applies for all individuals. The specific method of treatment should consider the type and severity of the disorder, as well as individual qualities such as personal and cultural characteristics. Some common orientations are described below.\n",
      "\n",
      "\n",
      "###\n",
      "\n",
      "\n",
      "Symptomatic voice therapy aims to directly or indirectly modify the symptoms that are caused by a voice disorder. Techniques are implemented to facilitate the production and maintenance of a voice that is most appropriate for the individual.  Symptomatic voice therapy can modify respiration, phonation, resonance, voice, loudness, rate, and laryngeal muscle tension and may assist in gender reassignment voice change.\n",
      "\n",
      "\n",
      "###\n",
      "\n",
      "\n",
      "Physiologic voice therapy may be adopted when the voice disorder is caused by a disturbance in the physiology of the vocal mechanism. Therapy directly modifies the abnormal physiologic activity affecting respiration, phonation, and resonance. Physiologic voice therapy aims to create a balance between the various subsystems.\n",
      "\n",
      "\n",
      "###\n",
      "\n",
      "\n",
      "Hygienic voice therapy involves modifying or eliminating inappropriate vocal behaviours that lead to voice dysfunction. Once behaviours are modified, the voice may improve towards a normal state. The voice is improved without directly targeting physiological mechanisms. Hygienic Voice therapy uses different techniques which are used for both management and prevention for voice disorders. For management of disorders, hygienic voice therapy is usually used in conjunction with other voice therapy methods. Vocal hygiene programs can include many different components but usually includes speech and non-speech aspects. Speech aspects include addressing loudness and amount of use. Whereas non-speech components typically address components such as  allergies, or laryngopharyngeal reflux. A vocal hygiene program also may include a component about learning about how the voice works (e.g. anatomy and physiology).\n",
      "\n",
      "\n",
      "###\n",
      "\n",
      "\n",
      "Some vocal hygiene guidelines for better vocal health:\n",
      "\n",
      "\n",
      "###\n",
      "\n",
      "\n",
      "Avoid phono-traumatic behaviours (i.e. throat clearing, yelling, cheering, excessive crying, talking over extensive background noise, and increase use voice amplification when appropriate).\n",
      "\n",
      "\n",
      "###\n",
      "\n",
      "\n",
      "Decrease or eliminate use of alcohol, caffeine, and drugs (i.e. tobacco, recreational drugs, non-steroidal anti-inflammatories and aspirin).\n",
      "\n",
      "\n",
      "###\n",
      "\n",
      "\n",
      "Increase humidification of the upper respiratory tract (i.e. drink more water, increase environmental humidity when possible, and decrease time spent in dry or dusty environments).\n",
      "\n",
      "\n",
      "###\n",
      "\n",
      "\n",
      "Decrease quantity of speech (if you're an excessive voice user or post laryngeal surgery).\n",
      "\n",
      "\n",
      "###\n",
      "\n",
      "\n",
      "Psychogenic voice therapy examines the psychological and emotional factors that cause and perpetuate disordered voice, and focuses on modifying those factors to improve voice functioning.\n",
      "\n",
      "\n",
      "###\n",
      "\n",
      "\n",
      "The various voice therapy orientations are not exclusive of each other. Any combination of orientations can be used in treatment. This is known as eclectic voice therapy.\n",
      "\n",
      "\n",
      "###\n",
      "\n",
      "\n",
      "While hormone replacement therapy and gender reassignment surgery can cause a more feminine physical appearance, they do little to alter the pitch or sound of the voice.  A number of surgical procedures exist to alter the vocal structure. These can be used in conjunction with voice therapy:\n",
      "\n",
      "\n",
      "###\n",
      "\n",
      "\n",
      "Cricothyroid approximation (CTA) (is the most common)\n",
      "\n",
      "\n",
      "###\n",
      "\n",
      "\n",
      "Laryngoplasty\n",
      "\n",
      "\n",
      "###\n",
      "\n",
      "\n",
      "Thyrohyoid approximation\n",
      "\n",
      "\n",
      "###\n",
      "\n",
      "\n",
      "Laryngeal reduction surgery (surgical shortening of the vocal cords)\n",
      "\n",
      "\n",
      "###\n",
      "\n",
      "\n",
      "Laser assisted voice adjustment (LAVA)\n",
      "\n",
      "\n",
      "###\n",
      "\n",
      "\n",
      "Voice prosthesis is an artificial device, usually made of silicone, that is used to help laryngectomized patients to speak.\n",
      "\n",
      "\n",
      "###\n",
      "\n",
      "\n",
      "There are many different physiologic voice therapy approaches that can be used in treatment. An example of a holistic approach used in voice therapy is the Smith Accent Method, introduced as a method to improve both speech and voice production. This technique can be used to treat stuttering, breathing, dysprosody, dysphonia, and to increase control of breathing, phrasing, and rhythm.\n",
      "\n",
      "\n",
      "###\n",
      "\n",
      "\n",
      "The main targets of accent methods are:\n",
      "\n",
      "\n",
      "###\n",
      "\n",
      "\n",
      "To increase the pulmonary output\n",
      "\n",
      "\n",
      "###\n",
      "\n",
      "\n",
      "To reduce tension in muscles\n",
      "\n",
      "\n",
      "###\n",
      "\n",
      "\n",
      "To reduce glottis waste\n",
      "\n",
      "\n",
      "###\n",
      "\n",
      "\n",
      "To stabilize the vibratory pattern of the vocal folds while speaking.\n",
      "\n",
      "---\n",
      "\n",
      "Question: What are the main targets of accent mehtods used in Physiologic voice therapy?\n",
      "Answer:\n"
     ]
    }
   ],
   "source": [
    "answer_2_contextful = run_query(question_2, df['text'].values)"
   ]
  },
  {
   "cell_type": "code",
   "execution_count": 33,
   "id": "0c838c4c-2f18-414f-8595-c2e6f48e3a39",
   "metadata": {},
   "outputs": [
    {
     "data": {
      "text/plain": [
       "<OpenAIObject at 0x270d6137950> JSON: {\n",
       "  \"text\": \" \\n\\nThe main targets of accent methods in Physiologic voice therapy are to increase pulmonary output, reduce tension in muscles, reduce glottis waste, and\",\n",
       "  \"index\": 0,\n",
       "  \"logprobs\": null,\n",
       "  \"finish_reason\": \"length\"\n",
       "}"
      ]
     },
     "execution_count": 33,
     "metadata": {},
     "output_type": "execute_result"
    }
   ],
   "source": [
    "answer_2_contextful"
   ]
  }
 ],
 "metadata": {
  "kernelspec": {
   "display_name": "Python 3 (ipykernel)",
   "language": "python",
   "name": "python3"
  },
  "language_info": {
   "codemirror_mode": {
    "name": "ipython",
    "version": 3
   },
   "file_extension": ".py",
   "mimetype": "text/x-python",
   "name": "python",
   "nbconvert_exporter": "python",
   "pygments_lexer": "ipython3",
   "version": "3.9.2"
  }
 },
 "nbformat": 4,
 "nbformat_minor": 5
}
